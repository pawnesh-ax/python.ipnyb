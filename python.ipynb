{
  "nbformat": 4,
  "nbformat_minor": 0,
  "metadata": {
    "colab": {
      "provenance": []
    },
    "kernelspec": {
      "name": "python3",
      "display_name": "Python 3"
    },
    "language_info": {
      "name": "python"
    }
  },
  "cells": [
    {
      "cell_type": "code",
      "execution_count": null,
      "metadata": {
        "id": "yXNwT8OT-wCV"
      },
      "outputs": [],
      "source": []
    },
    {
      "cell_type": "markdown",
      "source": [],
      "metadata": {
        "id": "TigcaORq-2Uv"
      }
    },
    {
      "cell_type": "markdown",
      "source": [
        "#python basics- Theory Questions\n"
      ],
      "metadata": {
        "id": "XHzhZqyr-86R"
      }
    },
    {
      "cell_type": "markdown",
      "source": [
        "Q1- what is python and why is it popular?\n",
        "- Python was designed by guido van rossum a dutch programmer in the late 1980s he released the first version in 1991 python is a high level interpreted programming language know for it simplycity and readability it supports multiple programming paradigms including procedural object oriented and functional programming\n",
        "\n",
        "its popular because :\n",
        "\n",
        "- Ease of use: simple syntax making it beginner friendly.\n",
        "\n",
        "- versatility: used in web developement ,data science , artificial intelligence ,automation and more\n",
        "\n",
        "- large community: extensive libraries and frameworks\n",
        "\n",
        "Q2- what is an interpreter in python ?\n",
        "- an interpreter in python is a program that execute python code directly\n",
        ",line by line , rather than compiling it into machine language beforehand it reads the source code , translate it into intermediate form , and runs its simultaneously\n",
        "\n",
        "Q3- what are predefined keywords in python ?\n",
        "- predefined words that holds a special meaning and have specific purpose some of the pre defined keywords are if , elif, import,etc\n",
        "\n",
        "Q4- Can keywords be used as variable names?\n",
        "\n",
        "- No, keywords cannot be used as variable names in python. keywords are reserved words that have special meanings and purposes in the python programming language . using them as variable names would cause syntax errors because python would misinterpret the intended functionality of the keyword.\n",
        "\n",
        "Q5- What is mutability in python ?\n",
        "\n",
        "- objects/container whose state or value can be changed after they are created are called as mutable objects mutability means changeability list is a type of mutable object\n",
        "\n",
        "Q6- why are lists mutable but tuples are immutable?\n",
        "\n",
        "- lists are mutable because they are designed operations like adding, removing,or modifying elements making them flexible for use cases that require frequent changes.\n",
        "\n",
        "- tuples are immutable to provide a lightweight, hashable, and stable data structure ,suitable for fixed collection of item and ensuring data intergrity when used as keys in dictionaries or elements in sets.\n",
        "\n",
        "Q7- What is the difference between \"==\" and \"is\" operators in python?\n",
        "\n",
        "- == (equality operator)\n",
        "- compares values of two objects to check if they are equal\n",
        "- can return True even if the object are stored at different memory locations.\n",
        "- is(identify operator)\n",
        "- compares the memory adresses \"(identify) of two objects to check if they are the same object.\n",
        "- returns True only if both variables points to the exact same objects in memory\n",
        "- Key Difference\n",
        "- == checks value equality\n",
        "- is checks object identify\n",
        "\n",
        "Q8-What are logical operators in Python?\n",
        "* Logical operators in Python are used to combine or modify boolean expressions and return a boolean value (True or False).\n",
        "Python provides three logical operators:\n",
        "1. and (Logical AND) Returns True if both operands are True. Short-circuits: Stops evaluating as soon as it encounters a False.\n",
        "2. or (Logical OR) Returns True if at least one operand is True. Short-circuits: Stops evaluating as soon as it encounters a True.\n",
        "3. not (Logical NOT) Returns the opposite boolean value of the operand. It is a unary operator, meaning it works on a single operand\n",
        "\n",
        "Q9-What is type casting in Python?\n",
        "* The Process of changing the data type of a value. (Type Conversion)\n",
        "* There are two varities of typecasting in python namely-\n",
        "* Implicit Typecasting\n",
        "* Explicit Typecasting\n",
        "\n",
        "Q10-What is the difference between implicit and explicit type casting?\n",
        "* The difference between implicit and explicit type casting lies in who performs the conversion and how it occurs:\n",
        "1. Implicit Type Casting Performed by Python automatically. Happens when\n",
        "Python converts one data type to another without user intervention. Ensures no loss of data or precision. Typically occurs in numeric operations (e.g., combining int and float).\n",
        "2. Explicit Type Casting Performed manually by the programmer. Achieved using\n",
        "Python's built-in functions like int), float(), str(), etc. Used when you need to forcefully convert a data type. Can lead to data loss if not used carefully\n",
        "\n",
        "Q11-What is the purpose of conditional statements in Python?\n",
        "* The purpose of conditional statements in\n",
        "Python is to enable decision-making in a program. They allow the program to execute specific blocks of code based on whether a condition (or set of conditions) evaluates to True or False. This helps in controlling the program's flow dynamically.\n",
        "* Key Uses of Conditional Statements\n",
        "* Decision Making: Execute different code paths based on conditions.\n",
        "* Control Flow: Change the flow of execution based on dynamic inputs or logic.\n",
        "* Validation: Check and enforce conditions before performing actions.\n",
        "* Types of Conditional Statements in\n",
        "Python\n",
        "* if Statement\n",
        "* if-else\n",
        "* if-elif-else\n",
        "* nested if-else\n",
        "\n",
        "Q12-How does the elif statement work?\n",
        "* The elif statement in Python is used for multiple conditional checks. It stands for\n",
        "\"else if\" and allows vou to test several conditions in sequence. When the program encounters an elif, it evaluates the condition associated with it, and if the condition is True, it executes the block of code under that elif.\n",
        "* If the condition is False, the program moves to the next elif or else statement, (if any)\n",
        "\n",
        "Q13-What is the difference between for and while loops?\n",
        "* The key difference between for and while loops in Python lies in their structure and use cases:\n",
        "1. for Loop Purpose: The for loop is used to iterate over a sequence (like a list, tuple, string, or range) for a specific number of times.\n",
        "* When to use: When you know the number of iterations in advance or you are iterating over a collection (like a list or range).\n",
        "* Control: The loop automatically handles the iteration, and you don't need to manually update the loop variable.\n",
        "2. while Loop Purpose: The while loop continues executing as long as the given condition is True.\n",
        "* When to use: When vou don't know beforehand how many iterations are needed and you want the loop to run until a condition is met.\n",
        "* Control: You need to manually update the condition within the loop to prevent an infinite loop.\n",
        "\n",
        "Q14-Describe a scenario where a while loop is more suitable than a for loop.\n",
        "MOULTE 9\n",
        "* A while loop is more suitable than a for loop when the number of iterations is not known in advance and the loop should continue as long as a certain condition is\n",
        "true.\n",
        "Imagine you're building a program that prompts the user to enter a valid password.\n",
        "You don't know how many attempts the user will need, so you need the loop to continue until the user enters a valid password.\n",
        "password = \"secret123\" user input = '\"\n",
        "while user input != password: user_input = input(\"Enter your password: \") if user_input != password: print(\"Invalid password, try again.\") print (\"Password accepted!\")\n",
        "* Explanation: The while loop continues to ask for the password until the user enters the correct one.\n",
        "* The condition (user input != password) is checked each time, and the loop keeps running until the condition becomes False (i.e., the user enters the correct password).\n",
        "* The number of iterations is not predefined, making the while loop the ideal choice for this scenario.\n",
        "* Why a for loop wouldn't be suitable: A for loop is typically used when you know the number of iterations in advance, such as iterating over a list or range. In this case, since we don't know how many times the user will attempt to enter the password, a for loop isn't ideal unless you explicitly set a fixed number of attempt\n",
        "\n",
        "\n"
      ],
      "metadata": {
        "id": "UO4ZWlMQ_adB"
      }
    },
    {
      "cell_type": "markdown",
      "source": [],
      "metadata": {
        "id": "IbwFNpHHKUvz"
      }
    },
    {
      "cell_type": "code",
      "source": [],
      "metadata": {
        "id": "FNz7jmT5Q3QR"
      },
      "execution_count": null,
      "outputs": []
    },
    {
      "cell_type": "markdown",
      "source": [
        "# python basics- practical questions\n",
        "\n",
        "Q1- Write a python program that displays your name and age.\n"
      ],
      "metadata": {
        "id": "dXdTWESWQ9Vl"
      }
    },
    {
      "cell_type": "code",
      "source": [
        "print(\"hello, world!\")"
      ],
      "metadata": {
        "colab": {
          "base_uri": "https://localhost:8080/"
        },
        "id": "cJrJ3EYyRd7c",
        "outputId": "1f800c8b-9cc1-40f8-fdb9-f08393aba4d4"
      },
      "execution_count": 2,
      "outputs": [
        {
          "output_type": "stream",
          "name": "stdout",
          "text": [
            "hello, world!\n"
          ]
        }
      ]
    },
    {
      "cell_type": "markdown",
      "source": [
        "\n",
        "Q2- Write a Python program that displays your name and age.\n"
      ],
      "metadata": {
        "id": "D5dDuQxlR3qO"
      }
    },
    {
      "cell_type": "code",
      "source": [
        "name= \"pavnesh tiwari\"\n",
        "age= 21\n",
        "print ( \"My Name is\", name)\n",
        "print (\"My age is\", age)"
      ],
      "metadata": {
        "colab": {
          "base_uri": "https://localhost:8080/"
        },
        "id": "UYmvZmUZSjzC",
        "outputId": "db3707f8-2cc0-4e5c-ade5-ace4b2159928"
      },
      "execution_count": 3,
      "outputs": [
        {
          "output_type": "stream",
          "name": "stdout",
          "text": [
            "My Name is pavnesh tiwari\n",
            "My age is 21\n"
          ]
        }
      ]
    },
    {
      "cell_type": "code",
      "source": [],
      "metadata": {
        "id": "bnbwaBAVR21H"
      },
      "execution_count": null,
      "outputs": []
    },
    {
      "cell_type": "markdown",
      "source": [
        "Q3- Write code to print all the pre-defined keywords in python using the keyword library.\n"
      ],
      "metadata": {
        "id": "DZ03G5LVTIUS"
      }
    },
    {
      "cell_type": "code",
      "source": [
        "help(\"keywords\")"
      ],
      "metadata": {
        "colab": {
          "base_uri": "https://localhost:8080/"
        },
        "id": "JBs1WgtqTZRX",
        "outputId": "2fe4db7d-ba88-49d2-fa89-68bdf3842de7"
      },
      "execution_count": 4,
      "outputs": [
        {
          "output_type": "stream",
          "name": "stdout",
          "text": [
            "\n",
            "Here is a list of the Python keywords.  Enter any keyword to get more help.\n",
            "\n",
            "False               class               from                or\n",
            "None                continue            global              pass\n",
            "True                def                 if                  raise\n",
            "and                 del                 import              return\n",
            "as                  elif                in                  try\n",
            "assert              else                is                  while\n",
            "async               except              lambda              with\n",
            "await               finally             nonlocal            yield\n",
            "break               for                 not                 \n",
            "\n"
          ]
        }
      ]
    },
    {
      "cell_type": "markdown",
      "source": [
        "Q4- write a program that checks if a given word is a python keyword.\n"
      ],
      "metadata": {
        "id": "uhrUTxQmTlb7"
      }
    },
    {
      "cell_type": "code",
      "source": [
        "import keyword\n",
        "a= keyword.kwlist\n",
        "b= (input (\" Enter a Word\" ))\n",
        "if b in a:\n",
        "  print ( \"The Word is a keyword\" )\n",
        "else:\n",
        "  print (\"The Word is not a keyword\")"
      ],
      "metadata": {
        "colab": {
          "base_uri": "https://localhost:8080/"
        },
        "id": "43DQmQl9UNYd",
        "outputId": "6cb7d1a6-6307-4abf-95af-617d21c1dd0a"
      },
      "execution_count": 6,
      "outputs": [
        {
          "output_type": "stream",
          "name": "stdout",
          "text": [
            " Enter a Wordhelp\n",
            "The Word is not a keyword\n"
          ]
        }
      ]
    },
    {
      "cell_type": "markdown",
      "source": [
        "Q5- Create a list and tuple in python , and demonstrate how attempting to change an element works differently for each.\n"
      ],
      "metadata": {
        "id": "lbN9fvxyU_BN"
      }
    },
    {
      "cell_type": "code",
      "source": [
        "list_ = [ 'apple', 'mango', 'banana' ]\n",
        "tuple_ = ('Apple', 'Mango', 'Banana')\n",
        "list_[0] = 'Grapes'\n",
        "print(list_)\n",
        "tuple_[0] = 'Grapes'\n",
        "print(tuple_)\n",
        ""
      ],
      "metadata": {
        "colab": {
          "base_uri": "https://localhost:8080/",
          "height": 228
        },
        "id": "lDt847EcVasC",
        "outputId": "5d697403-4f8d-4be8-fd3b-786335b1e1ae"
      },
      "execution_count": 9,
      "outputs": [
        {
          "output_type": "stream",
          "name": "stdout",
          "text": [
            "['Grapes', 'mango', 'banana']\n"
          ]
        },
        {
          "output_type": "error",
          "ename": "TypeError",
          "evalue": "'tuple' object does not support item assignment",
          "traceback": [
            "\u001b[0;31m---------------------------------------------------------------------------\u001b[0m",
            "\u001b[0;31mTypeError\u001b[0m                                 Traceback (most recent call last)",
            "\u001b[0;32m<ipython-input-9-5dc8ef059f78>\u001b[0m in \u001b[0;36m<cell line: 5>\u001b[0;34m()\u001b[0m\n\u001b[1;32m      3\u001b[0m \u001b[0mlist_\u001b[0m\u001b[0;34m[\u001b[0m\u001b[0;36m0\u001b[0m\u001b[0;34m]\u001b[0m \u001b[0;34m=\u001b[0m \u001b[0;34m'Grapes'\u001b[0m\u001b[0;34m\u001b[0m\u001b[0;34m\u001b[0m\u001b[0m\n\u001b[1;32m      4\u001b[0m \u001b[0mprint\u001b[0m\u001b[0;34m(\u001b[0m\u001b[0mlist_\u001b[0m\u001b[0;34m)\u001b[0m\u001b[0;34m\u001b[0m\u001b[0;34m\u001b[0m\u001b[0m\n\u001b[0;32m----> 5\u001b[0;31m \u001b[0mtuple_\u001b[0m\u001b[0;34m[\u001b[0m\u001b[0;36m0\u001b[0m\u001b[0;34m]\u001b[0m \u001b[0;34m=\u001b[0m \u001b[0;34m'Grapes'\u001b[0m\u001b[0;34m\u001b[0m\u001b[0;34m\u001b[0m\u001b[0m\n\u001b[0m\u001b[1;32m      6\u001b[0m \u001b[0mprint\u001b[0m\u001b[0;34m(\u001b[0m\u001b[0mtuple_\u001b[0m\u001b[0;34m)\u001b[0m\u001b[0;34m\u001b[0m\u001b[0;34m\u001b[0m\u001b[0m\n\u001b[1;32m      7\u001b[0m \u001b[0;34m\u001b[0m\u001b[0m\n",
            "\u001b[0;31mTypeError\u001b[0m: 'tuple' object does not support item assignment"
          ]
        }
      ]
    },
    {
      "cell_type": "markdown",
      "source": [
        "Q6- Write a function to demonstrate the behaviour of mutable and immutable arguments."
      ],
      "metadata": {
        "id": "CsbAUkw4XIFK"
      }
    },
    {
      "cell_type": "code",
      "source": [
        "def modify_immutable(num):\n",
        "    num += 1\n",
        "    print(f\"Inside function: num = {num}\")\n",
        "\n",
        "def modify_mutable(my_list):\n",
        "    my_list.append(4)\n",
        "    print(f\"Inside function: my_list = {my_list}\")\n",
        "\n",
        "original_num = 5\n",
        "print(f\"Before function call: original_num = {original_num}\")\n",
        "modify_immutable(original_num)\n",
        "print(f\"After function call: original_num = {original_num}\")\n",
        "\n",
        "my_list = [1, 2, 3]\n",
        "print(f\"Before function call: my_list = {my_list}\")\n",
        "modify_mutable(my_list)\n",
        "print(f\"After function call: my_list = {my_list}\")"
      ],
      "metadata": {
        "colab": {
          "base_uri": "https://localhost:8080/"
        },
        "id": "biarbjmMX8z2",
        "outputId": "339cb59d-a250-4769-d629-09d3d6d8cd3d"
      },
      "execution_count": 10,
      "outputs": [
        {
          "output_type": "stream",
          "name": "stdout",
          "text": [
            "Before function call: original_num = 5\n",
            "Inside function: num = 6\n",
            "After function call: original_num = 5\n",
            "Before function call: my_list = [1, 2, 3]\n",
            "Inside function: my_list = [1, 2, 3, 4]\n",
            "After function call: my_list = [1, 2, 3, 4]\n"
          ]
        }
      ]
    },
    {
      "cell_type": "markdown",
      "source": [
        "Q7- write a function to demonstrate the behavior of mutable and immutable aguments"
      ],
      "metadata": {
        "id": "PBhsRsquYwEn"
      }
    },
    {
      "cell_type": "code",
      "source": [
        "def modify_immutable(num):\n",
        "    num += 1\n",
        "    print(f\"Inside function: num = {num}\")\n",
        "\n",
        "def modify_mutable(my_list):\n",
        "    my_list.append(4)\n",
        "    print(f\"Inside function: my_list = {my_list}\")\n",
        "\n",
        "original_num = 5\n",
        "print(f\"Before function call: original_num = {original_num}\")\n",
        "modify_immutable(original_num)\n",
        "print(f\"After function call: original_num = {original_num}\")\n",
        "\n",
        "my_list = [1, 2, 3]\n",
        "print(f\"Before function call: my_list = {my_list}\")\n",
        "modify_mutable(my_list)\n",
        "print(f\"After function call: my_list = {my_list}\")"
      ],
      "metadata": {
        "colab": {
          "base_uri": "https://localhost:8080/"
        },
        "id": "nlWHQP-rZJl5",
        "outputId": "1b7e0ca2-3a3e-4eec-b9b1-80f62d1a71a7"
      },
      "execution_count": 11,
      "outputs": [
        {
          "output_type": "stream",
          "name": "stdout",
          "text": [
            "Before function call: original_num = 5\n",
            "Inside function: num = 6\n",
            "After function call: original_num = 5\n",
            "Before function call: my_list = [1, 2, 3]\n",
            "Inside function: my_list = [1, 2, 3, 4]\n",
            "After function call: my_list = [1, 2, 3, 4]\n"
          ]
        }
      ]
    },
    {
      "cell_type": "markdown",
      "source": [
        "Q8- Write a program to demonstrate the use of logical operators.\n"
      ],
      "metadata": {
        "id": "tDNsM-6dZv15"
      }
    },
    {
      "cell_type": "code",
      "source": [
        "a = True\n",
        "b = False\n",
        "print(\"AND Operator\")\n",
        "print(f\"{a and b}\") #Output is False because one of them is False.\n",
        "print(f\"{a and a}\") #Output will be True only when both of them are True\n",
        "print(\"\")\n",
        "print(\"OR Operator\")\n",
        "print(f\"{a or b}\") #Output is True because one of them is True.\n",
        "print(f\"{b or b}\") #Output will be False only when both of them are False.\n",
        "print(\"\")\n",
        "print(\"NOT Operator\")\n",
        "print(f\"{not a}\") #Output is False because a is True.\n",
        "print(f\"{not b}\") #Output is True because b is False"
      ],
      "metadata": {
        "colab": {
          "base_uri": "https://localhost:8080/"
        },
        "id": "a_S9pvUDZxhe",
        "outputId": "63b9600d-83cb-49a4-a62d-c96b13ac92b3"
      },
      "execution_count": 12,
      "outputs": [
        {
          "output_type": "stream",
          "name": "stdout",
          "text": [
            "AND Operator\n",
            "False\n",
            "True\n",
            "\n",
            "OR Operator\n",
            "True\n",
            "False\n",
            "\n",
            "NOT Operator\n",
            "False\n",
            "True\n"
          ]
        }
      ]
    },
    {
      "cell_type": "code",
      "source": [],
      "metadata": {
        "id": "c5IfDTK2aFtA"
      },
      "execution_count": null,
      "outputs": []
    },
    {
      "cell_type": "markdown",
      "source": [
        "Q9- Write a Python program to convert user input from string to integer, float, and boolean types."
      ],
      "metadata": {
        "id": "utOnthSuaMy2"
      }
    },
    {
      "cell_type": "code",
      "source": [
        "a= input(\"Enter a string to change it's type\")\n",
        "b= input(\"Select type - Integer Float Boolean\")\n",
        "if b==\"Integer\":\n",
        "  print(int(a))\n",
        "elif b==\"Float\":\n",
        "  print(float(a))\n",
        "elif b==\"Boolean\":\n",
        "  print(bool(a))\n",
        "else:\n",
        "  print(\"Invalid Input\")"
      ],
      "metadata": {
        "colab": {
          "base_uri": "https://localhost:8080/"
        },
        "collapsed": true,
        "id": "V_Z4QrbZaUBJ",
        "outputId": "d1b2fcb1-c922-46a3-cc78-6f48e062fcdd"
      },
      "execution_count": 14,
      "outputs": [
        {
          "output_type": "stream",
          "name": "stdout",
          "text": [
            "Enter a string to change it's typetwist\n",
            "Select type - Integer Float Boolean12.9\n",
            "Invalid Input\n"
          ]
        }
      ]
    },
    {
      "cell_type": "markdown",
      "source": [],
      "metadata": {
        "id": "sXUyoUoZXHXJ"
      }
    },
    {
      "cell_type": "markdown",
      "source": [
        "Q10- Write code to demonstrate type casting with list elements."
      ],
      "metadata": {
        "id": "6tcP7Xiua52d"
      }
    },
    {
      "cell_type": "code",
      "source": [
        "my_list = [\"10\", \"20\", \"30\", \"40\"]\n",
        "\n",
        "# Casting each element to integer\n",
        "int_list = [int(x) for x in (my_list)]\n",
        "\n",
        "print(\"Original list:\", my_list)\n",
        "print(\"List after type casting to integers:\", int_list)"
      ],
      "metadata": {
        "colab": {
          "base_uri": "https://localhost:8080/"
        },
        "id": "0Gz72uBNbEr3",
        "outputId": "37548959-c899-4294-d3a4-67398ae80279"
      },
      "execution_count": 15,
      "outputs": [
        {
          "output_type": "stream",
          "name": "stdout",
          "text": [
            "Original list: ['10', '20', '30', '40']\n",
            "List after type casting to integers: [10, 20, 30, 40]\n"
          ]
        }
      ]
    },
    {
      "cell_type": "markdown",
      "source": [
        "Q11- Write a program that checks if a number is positive, negative, or zero.\n"
      ],
      "metadata": {
        "id": "QYVNBxZ2bR-0"
      }
    },
    {
      "cell_type": "code",
      "source": [
        "a= int(input(\"Enter a number\"))\n",
        "if a>0:\n",
        "  print(\"The number is positive\")\n",
        "elif a<0:\n",
        "  print(\"The number is negative\")\n",
        "else:\n",
        "  print(\"The number is zero\")"
      ],
      "metadata": {
        "colab": {
          "base_uri": "https://localhost:8080/"
        },
        "id": "LKHw0MYXbZQk",
        "outputId": "108198cd-bcc8-45aa-931d-719dff833deb"
      },
      "execution_count": 16,
      "outputs": [
        {
          "output_type": "stream",
          "name": "stdout",
          "text": [
            "Enter a number23\n",
            "The number is positive\n"
          ]
        }
      ]
    },
    {
      "cell_type": "markdown",
      "source": [
        "Q12- Write a for loop to print numbers from 1 to 10."
      ],
      "metadata": {
        "id": "HXpqbC8Bbo2r"
      }
    },
    {
      "cell_type": "code",
      "source": [
        "for i in range(1,11):\n",
        "  print(i)"
      ],
      "metadata": {
        "colab": {
          "base_uri": "https://localhost:8080/"
        },
        "id": "-RIMSububvLs",
        "outputId": "f889dcb5-e94b-4f4b-bb68-3ffbf3aa11d7"
      },
      "execution_count": 17,
      "outputs": [
        {
          "output_type": "stream",
          "name": "stdout",
          "text": [
            "1\n",
            "2\n",
            "3\n",
            "4\n",
            "5\n",
            "6\n",
            "7\n",
            "8\n",
            "9\n",
            "10\n"
          ]
        }
      ]
    },
    {
      "cell_type": "markdown",
      "source": [],
      "metadata": {
        "id": "zmlS0d-rbmui"
      }
    },
    {
      "cell_type": "markdown",
      "source": [
        "Q13- Write a Python program to find the sum of all even numbers between 1 and 50"
      ],
      "metadata": {
        "id": "8AXscUvZb4KC"
      }
    },
    {
      "cell_type": "code",
      "source": [
        "a = 0\n",
        "for i in range(0, 51):\n",
        "  if i%2==0:\n",
        "    a += i\n",
        "    print(a)\n",
        "print(\"The Sum of even numbers from 1 to 50 is\",a)"
      ],
      "metadata": {
        "colab": {
          "base_uri": "https://localhost:8080/"
        },
        "id": "2dNK2SI4b-Vr",
        "outputId": "ba1258f4-544e-4bf1-b046-b2995cda7894"
      },
      "execution_count": 18,
      "outputs": [
        {
          "output_type": "stream",
          "name": "stdout",
          "text": [
            "0\n",
            "2\n",
            "6\n",
            "12\n",
            "20\n",
            "30\n",
            "42\n",
            "56\n",
            "72\n",
            "90\n",
            "110\n",
            "132\n",
            "156\n",
            "182\n",
            "210\n",
            "240\n",
            "272\n",
            "306\n",
            "342\n",
            "380\n",
            "420\n",
            "462\n",
            "506\n",
            "552\n",
            "600\n",
            "650\n",
            "The Sum of even numbers from 1 to 50 is 650\n"
          ]
        }
      ]
    },
    {
      "cell_type": "markdown",
      "source": [
        "Q14- Write a program to reverse a string using a while loop?"
      ],
      "metadata": {
        "id": "FEcQFgC9cHV6"
      }
    },
    {
      "cell_type": "code",
      "source": [
        "a = (\"Pawnesh\")\n",
        "while len(a) > 0:\n",
        "  print(a[-1])\n",
        "  a = a[:-1]"
      ],
      "metadata": {
        "colab": {
          "base_uri": "https://localhost:8080/"
        },
        "id": "yzYC6hlDcG1O",
        "outputId": "6c32f732-9289-46ef-8cae-90b1827e1ee5"
      },
      "execution_count": 19,
      "outputs": [
        {
          "output_type": "stream",
          "name": "stdout",
          "text": [
            "h\n",
            "s\n",
            "e\n",
            "n\n",
            "w\n",
            "a\n",
            "P\n"
          ]
        }
      ]
    },
    {
      "cell_type": "markdown",
      "source": [
        "15- Write a Python program to calculate the factorial of a number provided by the user using a while loop."
      ],
      "metadata": {
        "id": "u1qCdUercmT9"
      }
    },
    {
      "cell_type": "code",
      "source": [
        "a = int(input(\"Enter a number\"))\n",
        "b = 1\n",
        "while a > 0:\n",
        "  b *= a\n",
        "  a -= 1\n",
        "print(b)"
      ],
      "metadata": {
        "colab": {
          "base_uri": "https://localhost:8080/"
        },
        "id": "H841fhfacnt-",
        "outputId": "5317a24c-ae6e-4789-a9c6-0aacfca21fba"
      },
      "execution_count": 20,
      "outputs": [
        {
          "output_type": "stream",
          "name": "stdout",
          "text": [
            "Enter a number40\n",
            "815915283247897734345611269596115894272000000000\n"
          ]
        }
      ]
    }
  ]
}